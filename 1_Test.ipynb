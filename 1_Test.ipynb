{
 "cells": [
  {
   "cell_type": "code",
   "execution_count": 2,
   "id": "39eb3500",
   "metadata": {},
   "outputs": [
    {
     "data": {
      "text/html": [
       "<div>\n",
       "<style scoped>\n",
       "    .dataframe tbody tr th:only-of-type {\n",
       "        vertical-align: middle;\n",
       "    }\n",
       "\n",
       "    .dataframe tbody tr th {\n",
       "        vertical-align: top;\n",
       "    }\n",
       "\n",
       "    .dataframe thead th {\n",
       "        text-align: right;\n",
       "    }\n",
       "</style>\n",
       "<table border=\"1\" class=\"dataframe\">\n",
       "  <thead>\n",
       "    <tr style=\"text-align: right;\">\n",
       "      <th></th>\n",
       "      <th>E_name</th>\n",
       "      <th>Departement</th>\n",
       "      <th>Type</th>\n",
       "      <th>Experience</th>\n",
       "      <th>Salary</th>\n",
       "    </tr>\n",
       "  </thead>\n",
       "  <tbody>\n",
       "    <tr>\n",
       "      <th>0</th>\n",
       "      <td>kumar</td>\n",
       "      <td>HD</td>\n",
       "      <td>Manager</td>\n",
       "      <td>15</td>\n",
       "      <td>10000</td>\n",
       "    </tr>\n",
       "    <tr>\n",
       "      <th>1</th>\n",
       "      <td>Bindu</td>\n",
       "      <td>HD</td>\n",
       "      <td>Analyst</td>\n",
       "      <td>8</td>\n",
       "      <td>28000</td>\n",
       "    </tr>\n",
       "    <tr>\n",
       "      <th>2</th>\n",
       "      <td>sindu</td>\n",
       "      <td>TD</td>\n",
       "      <td>Manager</td>\n",
       "      <td>10</td>\n",
       "      <td>50000</td>\n",
       "    </tr>\n",
       "    <tr>\n",
       "      <th>3</th>\n",
       "      <td>sinchu</td>\n",
       "      <td>TD</td>\n",
       "      <td>Employee</td>\n",
       "      <td>15</td>\n",
       "      <td>70000</td>\n",
       "    </tr>\n",
       "  </tbody>\n",
       "</table>\n",
       "</div>"
      ],
      "text/plain": [
       "   E_name Departement      Type  Experience  Salary\n",
       "0   kumar          HD   Manager          15   10000\n",
       "1   Bindu          HD   Analyst           8   28000\n",
       "2   sindu          TD   Manager          10   50000\n",
       "3  sinchu          TD  Employee          15   70000"
      ]
     },
     "execution_count": 2,
     "metadata": {},
     "output_type": "execute_result"
    }
   ],
   "source": [
    "#create DataFrame\n",
    "import pandas as pd \n",
    "import numpy as np\n",
    "df=pd.DataFrame({\n",
    "    \"E_name\":[\"kumar\",\"Bindu\",\"sindu\",\"sinchu\"],\n",
    "    \"Departement\":[\"HD\",\"HD\",\"TD\",\"TD\"],\n",
    "    \"Type\":[\"Manager\",\"Analyst\",\"Manager\",\"Employee\"],\n",
    "    \"Experience\":[15,8,10,15],\n",
    "    \"Salary\":[10000,28000,50000,70000]\n",
    "})\n",
    "df"
   ]
  },
  {
   "cell_type": "markdown",
   "id": "f7b51c7e",
   "metadata": {},
   "source": [
    "# BarGraph"
   ]
  },
  {
   "cell_type": "code",
   "execution_count": 5,
   "id": "0c92f148",
   "metadata": {},
   "outputs": [
    {
     "data": {
      "text/plain": [
       "Text(0, 0.5, 'Salary')"
      ]
     },
     "execution_count": 5,
     "metadata": {},
     "output_type": "execute_result"
    },
    {
     "data": {
      "image/png": "[encoded data removed]",
      "text/plain": [
       "<Figure size 640x480 with 1 Axes>"
      ]
     },
     "metadata": {},
     "output_type": "display_data"
    }
   ],
   "source": [
    "import matplotlib.pyplot as plt\n",
    "df[\"Salary\"].plot(kind=\"bar\")\n",
    "plt.title(\"Salary of Employee\")\n",
    "plt.xlabel(\"employee\")\n",
    "plt.ylabel(\"Salary\")"
   ]
  },
  {
   "cell_type": "markdown",
   "id": "1d5678bf",
   "metadata": {},
   "source": [
    "# Adding Age column"
   ]
  },
  {
   "cell_type": "code",
   "execution_count": 6,
   "id": "24c7fa75",
   "metadata": {},
   "outputs": [
    {
     "data": {
      "text/html": [
       "<div>\n",
       "<style scoped>\n",
       "    .dataframe tbody tr th:only-of-type {\n",
       "        vertical-align: middle;\n",
       "    }\n",
       "\n",
       "    .dataframe tbody tr th {\n",
       "        vertical-align: top;\n",
       "    }\n",
       "\n",
       "    .dataframe thead th {\n",
       "        text-align: right;\n",
       "    }\n",
       "</style>\n",
       "<table border=\"1\" class=\"dataframe\">\n",
       "  <thead>\n",
       "    <tr style=\"text-align: right;\">\n",
       "      <th></th>\n",
       "      <th>E_name</th>\n",
       "      <th>Departement</th>\n",
       "      <th>Type</th>\n",
       "      <th>Experience</th>\n",
       "      <th>Salary</th>\n",
       "      <th>Age</th>\n",
       "    </tr>\n",
       "  </thead>\n",
       "  <tbody>\n",
       "    <tr>\n",
       "      <th>0</th>\n",
       "      <td>kumar</td>\n",
       "      <td>HD</td>\n",
       "      <td>Manager</td>\n",
       "      <td>15</td>\n",
       "      <td>10000</td>\n",
       "      <td>30.0</td>\n",
       "    </tr>\n",
       "    <tr>\n",
       "      <th>1</th>\n",
       "      <td>Bindu</td>\n",
       "      <td>HD</td>\n",
       "      <td>Analyst</td>\n",
       "      <td>8</td>\n",
       "      <td>28000</td>\n",
       "      <td>38.0</td>\n",
       "    </tr>\n",
       "    <tr>\n",
       "      <th>2</th>\n",
       "      <td>sindu</td>\n",
       "      <td>TD</td>\n",
       "      <td>Manager</td>\n",
       "      <td>10</td>\n",
       "      <td>50000</td>\n",
       "      <td>40.0</td>\n",
       "    </tr>\n",
       "    <tr>\n",
       "      <th>3</th>\n",
       "      <td>sinchu</td>\n",
       "      <td>TD</td>\n",
       "      <td>Employee</td>\n",
       "      <td>15</td>\n",
       "      <td>70000</td>\n",
       "      <td>28.0</td>\n",
       "    </tr>\n",
       "  </tbody>\n",
       "</table>\n",
       "</div>"
      ],
      "text/plain": [
       "   E_name Departement      Type  Experience  Salary   Age\n",
       "0   kumar          HD   Manager          15   10000  30.0\n",
       "1   Bindu          HD   Analyst           8   28000  38.0\n",
       "2   sindu          TD   Manager          10   50000  40.0\n",
       "3  sinchu          TD  Employee          15   70000  28.0"
      ]
     },
     "execution_count": 6,
     "metadata": {},
     "output_type": "execute_result"
    }
   ],
   "source": [
    "Age=[30.,38,40,28]\n",
    "df[\"Age\"]=Age\n",
    "df"
   ]
  },
  {
   "cell_type": "code",
   "execution_count": 11,
   "id": "78b70ba7",
   "metadata": {},
   "outputs": [
    {
     "data": {
      "text/html": [
       "<div>\n",
       "<style scoped>\n",
       "    .dataframe tbody tr th:only-of-type {\n",
       "        vertical-align: middle;\n",
       "    }\n",
       "\n",
       "    .dataframe tbody tr th {\n",
       "        vertical-align: top;\n",
       "    }\n",
       "\n",
       "    .dataframe thead th {\n",
       "        text-align: right;\n",
       "    }\n",
       "</style>\n",
       "<table border=\"1\" class=\"dataframe\">\n",
       "  <thead>\n",
       "    <tr style=\"text-align: right;\">\n",
       "      <th></th>\n",
       "      <th>E_name</th>\n",
       "      <th>Departement</th>\n",
       "      <th>Type</th>\n",
       "      <th>Experience</th>\n",
       "      <th>Salary</th>\n",
       "      <th>Age</th>\n",
       "    </tr>\n",
       "  </thead>\n",
       "  <tbody>\n",
       "    <tr>\n",
       "      <th>0</th>\n",
       "      <td>kumar</td>\n",
       "      <td>HD</td>\n",
       "      <td>Manager</td>\n",
       "      <td>15</td>\n",
       "      <td>10000</td>\n",
       "      <td>30.0</td>\n",
       "    </tr>\n",
       "    <tr>\n",
       "      <th>1</th>\n",
       "      <td>Bindu</td>\n",
       "      <td>HD</td>\n",
       "      <td>Analyst</td>\n",
       "      <td>8</td>\n",
       "      <td>28000</td>\n",
       "      <td>38.0</td>\n",
       "    </tr>\n",
       "    <tr>\n",
       "      <th>2</th>\n",
       "      <td>sindu</td>\n",
       "      <td>TD</td>\n",
       "      <td>Manager</td>\n",
       "      <td>10</td>\n",
       "      <td>50000</td>\n",
       "      <td>40.0</td>\n",
       "    </tr>\n",
       "    <tr>\n",
       "      <th>3</th>\n",
       "      <td>sinchu</td>\n",
       "      <td>TD</td>\n",
       "      <td>Employee</td>\n",
       "      <td>15</td>\n",
       "      <td>70000</td>\n",
       "      <td>28.0</td>\n",
       "    </tr>\n",
       "  </tbody>\n",
       "</table>\n",
       "</div>"
      ],
      "text/plain": [
       "   E_name Departement      Type  Experience  Salary   Age\n",
       "0   kumar          HD   Manager          15   10000  30.0\n",
       "1   Bindu          HD   Analyst           8   28000  38.0\n",
       "2   sindu          TD   Manager          10   50000  40.0\n",
       "3  sinchu          TD  Employee          15   70000  28.0"
      ]
     },
     "execution_count": 11,
     "metadata": {},
     "output_type": "execute_result"
    }
   ],
   "source": [
    "df.loc[df[\"Age\"]>10]"
   ]
  },
  {
   "cell_type": "code",
   "execution_count": null,
   "id": "eef5739b",
   "metadata": {},
   "outputs": [],
   "source": []
  }
 ],
 "metadata": {
  "kernelspec": {
   "display_name": "Python 3 (ipykernel)",
   "language": "python",
   "name": "python3"
  },
  "language_info": {
   "codemirror_mode": {
    "name": "ipython",
    "version": 3
   },
   "file_extension": ".py",
   "mimetype": "text/x-python",
   "name": "python",
   "nbconvert_exporter": "python",
   "pygments_lexer": "ipython3",
   "version": "3.11.4"
  }
 },
 "nbformat": 4,
 "nbformat_minor": 5
}
